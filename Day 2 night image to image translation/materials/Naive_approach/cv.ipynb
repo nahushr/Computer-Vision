{
 "cells": [
  {
   "cell_type": "markdown",
   "metadata": {},
   "source": [
    "First we download all the dependencies require for this project <br/>\n",
    "opencv -> used for sky detection<br/>\n",
    "seaborn-> used for histogram visualizaton of pixel distribution in an image"
   ]
  },
  {
   "cell_type": "code",
   "execution_count": 1,
   "metadata": {
    "scrolled": true
   },
   "outputs": [
    {
     "name": "stdout",
     "output_type": "stream",
     "text": [
      "Collecting opencv-python\n",
      "\u001b[?25l  Downloading https://files.pythonhosted.org/packages/7b/d2/a2dbf83d4553ca6b3701d91d75e42fe50aea97acdc00652dca515749fb5d/opencv_python-4.1.0.25-cp36-cp36m-manylinux1_x86_64.whl (26.6MB)\n",
      "\u001b[K    100% |████████████████████████████████| 26.6MB 515kB/s eta 0:00:01\n",
      "\u001b[?25hRequirement already satisfied: numpy>=1.11.3 in /srv/conda/lib/python3.6/site-packages (from opencv-python) (1.16.2)\n",
      "Installing collected packages: opencv-python\n",
      "Successfully installed opencv-python-4.1.0.25\n",
      "Collecting seaborn\n",
      "\u001b[?25l  Downloading https://files.pythonhosted.org/packages/a8/76/220ba4420459d9c4c9c9587c6ce607bf56c25b3d3d2de62056efe482dadc/seaborn-0.9.0-py3-none-any.whl (208kB)\n",
      "\u001b[K    100% |████████████████████████████████| 215kB 15.5MB/s ta 0:00:01\n",
      "\u001b[?25hRequirement already satisfied: pandas>=0.15.2 in /srv/conda/lib/python3.6/site-packages (from seaborn) (0.24.2)\n",
      "Requirement already satisfied: scipy>=0.14.0 in /srv/conda/lib/python3.6/site-packages (from seaborn) (1.2.1)\n",
      "Requirement already satisfied: matplotlib>=1.4.3 in /srv/conda/lib/python3.6/site-packages (from seaborn) (3.0.3)\n",
      "Requirement already satisfied: numpy>=1.9.3 in /srv/conda/lib/python3.6/site-packages (from seaborn) (1.16.2)\n",
      "Requirement already satisfied: python-dateutil>=2.5.0 in /srv/conda/lib/python3.6/site-packages (from pandas>=0.15.2->seaborn) (2.8.0)\n",
      "Requirement already satisfied: pytz>=2011k in /srv/conda/lib/python3.6/site-packages (from pandas>=0.15.2->seaborn) (2018.9)\n",
      "Requirement already satisfied: cycler>=0.10 in /srv/conda/lib/python3.6/site-packages (from matplotlib>=1.4.3->seaborn) (0.10.0)\n",
      "Requirement already satisfied: kiwisolver>=1.0.1 in /srv/conda/lib/python3.6/site-packages (from matplotlib>=1.4.3->seaborn) (1.0.1)\n",
      "Requirement already satisfied: pyparsing!=2.0.4,!=2.1.2,!=2.1.6,>=2.0.1 in /srv/conda/lib/python3.6/site-packages (from matplotlib>=1.4.3->seaborn) (2.3.1)\n",
      "Requirement already satisfied: six>=1.5 in /srv/conda/lib/python3.6/site-packages (from python-dateutil>=2.5.0->pandas>=0.15.2->seaborn) (1.12.0)\n",
      "Requirement already satisfied: setuptools in /srv/conda/lib/python3.6/site-packages (from kiwisolver>=1.0.1->matplotlib>=1.4.3->seaborn) (40.8.0)\n",
      "Installing collected packages: seaborn\n",
      "Successfully installed seaborn-0.9.0\n",
      "Requirement already satisfied: pandas in /srv/conda/lib/python3.6/site-packages (0.24.2)\n",
      "Requirement already satisfied: python-dateutil>=2.5.0 in /srv/conda/lib/python3.6/site-packages (from pandas) (2.8.0)\n",
      "Requirement already satisfied: numpy>=1.12.0 in /srv/conda/lib/python3.6/site-packages (from pandas) (1.16.2)\n",
      "Requirement already satisfied: pytz>=2011k in /srv/conda/lib/python3.6/site-packages (from pandas) (2018.9)\n",
      "Requirement already satisfied: six>=1.5 in /srv/conda/lib/python3.6/site-packages (from python-dateutil>=2.5.0->pandas) (1.12.0)\n",
      "Requirement already satisfied: scipy in /srv/conda/lib/python3.6/site-packages (1.2.1)\n"
     ]
    }
   ],
   "source": [
    "!pip install opencv-python\n",
    "!pip install seaborn\n",
    "!pip install pandas\n",
    "!pip install scipy"
   ]
  },
  {
   "cell_type": "code",
   "execution_count": 2,
   "metadata": {},
   "outputs": [],
   "source": [
    "import cv2\n",
    "import numpy as np\n",
    "import sys\n",
    "from PIL import Image, ImageFilter\n",
    "import random\n",
    "from scipy import spatial\n",
    "import pandas as pd\n",
    "import seaborn as sb\n",
    "from matplotlib import pyplot as plt"
   ]
  },
  {
   "cell_type": "code",
   "execution_count": 15,
   "metadata": {},
   "outputs": [],
   "source": [
    "file_path=\"tp3.jpg\" ##input file path"
   ]
  },
  {
   "cell_type": "markdown",
   "metadata": {},
   "source": [
    "This function is used for masking the detected sky in the image in this case we are just coloring the whole non-sky part as white with rgb value as (255,255,255)"
   ]
  },
  {
   "cell_type": "code",
   "execution_count": 4,
   "metadata": {},
   "outputs": [],
   "source": [
    "## https://github.com/cnelson/skydetector/blob/master/sky_detection.ipynb\n",
    "def make_mask(b, image): ## a function to make a white mask\n",
    "    mask = np.zeros((image.shape[0], image.shape[1], 1), dtype=np.uint8)\n",
    "    for xx, yy in enumerate(b):mask[yy:, xx] = 255\n",
    "    return mask\n",
    "## https://github.com/cnelson/skydetector/blob/master/sky_detection.ipynb"
   ]
  },
  {
   "cell_type": "markdown",
   "metadata": {},
   "source": [
    "This function is used for converting entire pixel to the masked value rgb (255,255,255) in our case"
   ]
  },
  {
   "cell_type": "code",
   "execution_count": 5,
   "metadata": {},
   "outputs": [],
   "source": [
    "## https://github.com/cnelson/skydetector/blob/master/sky_detection.ipynb\n",
    "def display_mask(b, image, color=(255,255,255)): ##cover the entire sky with the white mask\n",
    "    result = image.copy()\n",
    "    overlay = np.full(image.shape, color, image.dtype) ##overlay for translucent mask\n",
    "    output=cv2.addWeighted(cv2.bitwise_and(overlay, overlay, mask=make_mask(b, image)),1,image,1,0,result)\n",
    "    return output\n",
    "## https://github.com/cnelson/skydetector/blob/master/sky_detection.ipynb"
   ]
  },
  {
   "cell_type": "markdown",
   "metadata": {},
   "source": [
    "\"\n",
    "If the input image is a colour image, we convert it into a greyscale image.\n",
    "From the greyscale image, we calculate its corresponding gradient image with the Sobel operator. As is known, the Sobel operator contains two operators in the horizontal and vertical directions. We convolve the input greyscale image with these two operators and get two gradient images. Finally we calculate the gradient magnitude image by combining the two gradient images.\n",
    "\"[1]"
   ]
  },
  {
   "cell_type": "code",
   "execution_count": 6,
   "metadata": {},
   "outputs": [],
   "source": [
    "## https://github.com/cnelson/skydetector/blob/master/sky_detection.ipynb\n",
    "def display_cv2_image(image):\n",
    "    return cv2.imencode('.png', image)[1].tostring()\n",
    "def color_to_gradient(image):\n",
    "    gray = cv2.cvtColor(input_image, cv2.COLOR_BGR2GRAY) ## convert colored image to a black and white image\n",
    "    return np.hypot(cv2.Sobel(gray, cv2.CV_64F, 1, 0),cv2.Sobel(gray, cv2.CV_64F, 0, 1))\n",
    "## https://github.com/cnelson/skydetector/blob/master/sky_detection.ipynb"
   ]
  },
  {
   "cell_type": "markdown",
   "metadata": {},
   "source": [
    "\"\n",
    "Inspired by the energy function proposed in Ettinger S, Nechyba M, Ifju P, Waszak M (2002) Vision-Guided Flight Stability and Control for Micro Air Vehicles:\n",
    "Equation 1:\n",
    "<img src=\"1.JPG\" />\n",
    "where $\\Sigma_s$ and $\\Sigma_g$ are the covariance matrices of the pixels that are described by RGB values in sky and ground regions, respectively. They are both 3×3 matrices, which are defined as follows:\n",
    "\n",
    "Equation 2:\n",
    "<img src=\"2.JPG\" />\n",
    "\n",
    "Equation 3:\n",
    "<img src=\"3.JPG\" />\n",
    "\n",
    "where Ns and Ng are the number of pixels in the sky and ground regions, respectively, while $\\mu^s$ and $\\mu^g$ are 3×1 column vectors that represent the average RGB values in the sky and ground regions, respectively.\n",
    "\n",
    "$\\lambda^s_i$ and $\\lambda^g_i(i = \\{1, 2, 3\\})$ are Eigen values corresponding to the above two matrices and $|\\cdot|$ denotes the determinant, that measures the variance or volume of the pixel distribution in each region.\n",
    "our modified energy function is as follows:\n",
    "\n",
    "Equation 4:\n",
    "<img src=\"4.JPG\" />\n",
    "where $\\gamma$ denotes our emphasis on the homogeneity in the sky region. In this paper, we choose $\\gamma = 2$ experimentally. Since $|\\lambda2|$ and $|\\lambda3|$ are very small compared with the largest Eigen value $|\\lambda1|$ of the matrix when the matrix is nearly singular, we omit the terms $\\lambda2$ and $\\lambda3$\n",
    "\"[1]"
   ]
  },
  {
   "cell_type": "code",
   "execution_count": 7,
   "metadata": {},
   "outputs": [],
   "source": [
    "## https://github.com/cnelson/skydetector/blob/master/sky_detection.ipynb\n",
    "def energy(b_tmp, image):\n",
    "    sky_mask = make_mask(b_tmp, image) ##creating the mask\n",
    "    ground = np.ma.array(image,mask=cv2.cvtColor(cv2.bitwise_not(sky_mask), cv2.COLOR_GRAY2BGR)).compressed() ##marking the ground region\n",
    "    sky = np.ma.array(image,mask=cv2.cvtColor(sky_mask, cv2.COLOR_GRAY2BGR)).compressed() ##marking the sky region\n",
    "    ground.shape = (ground.size//3, 3) ## determining the ground shape\n",
    "    sky.shape = (sky.size//3, 3) ## determining the sky shape\n",
    "    sigma_g, mu_g = cv2.calcCovarMatrix(ground,None,cv2.COVAR_NORMAL | cv2.COVAR_ROWS | cv2.COVAR_SCALE)\n",
    "    sigma_s, mu_s = cv2.calcCovarMatrix(sky,None,cv2.COVAR_NORMAL | cv2.COVAR_ROWS | cv2.COVAR_SCALE)\n",
    "    y = 2\n",
    "    return 1 / ((y * np.linalg.det(sigma_s) + np.linalg.det(sigma_g)) +(y * np.linalg.det(np.linalg.eig(sigma_s)[1]) +np.linalg.det(np.linalg.eig(sigma_g)[1])))\n",
    "## https://github.com/cnelson/skydetector/blob/master/sky_detection.ipynb"
   ]
  },
  {
   "cell_type": "markdown",
   "metadata": {},
   "source": [
    "\"\n",
    "For a given threshold $t$, we can get $b(x)$ according to algorithm 1. Combining equations (8) and (9), the sky and ground segmentation result corresponding to $t$ can be calculated and $Jn(t)$ can be estimated without difficulty.\n",
    "it is difficult to optimize $Jn(t)$ globally with the traditional gradient-based method. Fortunately, our proposed energy function $Jn(t)$ only depends on a single parameter $t$, and it is feasible to optimize it by searching in a 1D parameter space.\n",
    "\n",
    "According to the definition of the Sobel operator, the maximum value in the gradient image is about 1,443 for a traditional 8-bit greyscale image. In theory, we have: $thresh\\_min &gt; 0$ and $thresh\\_max = 1443$.\n",
    "\n",
    "But, we found that for a natural image it is unlikely that the intensity difference between the neighbouring pixels will reach 255. As a result, the maximum value of the gradient image should not be expected to reach 1,443.\n",
    "\n",
    "we can also see that if the threshold $t$ exceeds 600, $Jn(t)$ is nearly a constant.\n",
    "\n",
    "Considering the balance between search precision and computational complexity, we set the sampling step in the search space of $t$ as $search\\_step = 5$, so that:\n",
    "\"[1]"
   ]
  },
  {
   "cell_type": "code",
   "execution_count": 8,
   "metadata": {},
   "outputs": [],
   "source": [
    "## https://github.com/cnelson/skydetector/blob/master/sky_detection.ipynb\n",
    "def calculate_border_optimal(image, thresh_min=5, thresh_max=600, search_step=5):\n",
    "    grad = color_to_gradient(image) ##get the black and white image gradient from the colored image\n",
    "    n = ((thresh_max - thresh_min) // search_step) + 1\n",
    "    b_opt,jn_max = None, 0\n",
    "    for k in range(1, n + 1):\n",
    "        t = thresh_min + ((thresh_max - thresh_min) // n - 1) * (k - 1)\n",
    "        b_tmp = calculate_border(grad, t)\n",
    "        jn = energy(b_tmp, image)\n",
    "        if jn > jn_max:\n",
    "            jn_max = jn\n",
    "            b_opt = b_tmp\n",
    "    return b_opt\n",
    "\n",
    "def calculate_border(grad, t):\n",
    "    sky = np.full(grad.shape[1], grad.shape[0])\n",
    "    for x in range(grad.shape[1]):\n",
    "        border_pos = np.argmax(grad[:, x] > t)\n",
    "        if border_pos > 0:sky[x] = border_pos\n",
    "    return sky\n",
    "## https://github.com/cnelson/skydetector/blob/master/sky_detection.ipynb"
   ]
  },
  {
   "cell_type": "markdown",
   "metadata": {},
   "source": [
    "\"\n",
    "During the image capture process, sometimes the camera is slanted or there are tall objects in the scene; there might be some image columns which do not contain a sky region.\n",
    "\n",
    "As shown, there are fake sky regions detected in the middle of the image while directly applying the previous proposed algorithm. The reason is that our proposed algorithm implicitly assumes that there are sky region pixels in every column.\n",
    "\n",
    "In order to overcome this drawback, we have to first detect it. Observing that there is a sudden change of sky border positions, we define the absolute differences of sky border positions:\n",
    "<img src=\"6.JPG\"/>\"\n",
    "[1]"
   ]
  },
  {
   "cell_type": "code",
   "execution_count": 9,
   "metadata": {},
   "outputs": [],
   "source": [
    "## https://github.com/cnelson/skydetector/blob/master/sky_detection.ipynb\n",
    "def no_sky_region(bopt, thresh1, thresh2, thresh3): ##function to cover no sky if considerable sky region is not detected\n",
    "    border_ave = np.average(bopt)\n",
    "    asadsbp = np.average(np.absolute(np.diff(bopt)))\n",
    "    return border_ave < thresh1 or (border_ave < thresh2 and asadsbp > thresh3)\n",
    "\n",
    "def partial_sky_region(bopt, thresh4): ##partial sky to be detected in between objetcs like pillars, openings, windows etc\n",
    "    return np.any(np.diff(bopt) > thresh4)\n",
    "## https://github.com/cnelson/skydetector/blob/master/sky_detection.ipynb"
   ]
  },
  {
   "cell_type": "markdown",
   "metadata": {},
   "source": [
    "This function is used to for recalculating the sky border position."
   ]
  },
  {
   "cell_type": "code",
   "execution_count": 10,
   "metadata": {},
   "outputs": [],
   "source": [
    "## https://github.com/cnelson/skydetector/blob/master/sky_detection.ipynb\n",
    "def refine_sky(bopt, image):\n",
    "    sky_mask = make_mask(bopt, image)\n",
    "    ground = np.ma.array(image,mask=cv2.cvtColor(cv2.bitwise_not(sky_mask), cv2.COLOR_GRAY2BGR)).compressed()\n",
    "    sky = np.ma.array(image,mask=cv2.cvtColor(sky_mask, cv2.COLOR_GRAY2BGR)).compressed()\n",
    "    ground.shape = (ground.size//3, 3)\n",
    "    sky.shape = (sky.size//3, 3)\n",
    "    ret, label, center = cv2.kmeans(np.float32(sky),2,None,(cv2.TERM_CRITERIA_EPS + cv2.TERM_CRITERIA_MAX_ITER, 10, 1.0),10,cv2.KMEANS_RANDOM_CENTERS)\n",
    "    sigma_s1, mu_s1 = cv2.calcCovarMatrix(sky[label.ravel() == 0],None,cv2.COVAR_NORMAL | cv2.COVAR_ROWS | cv2.COVAR_SCALE)\n",
    "    ic_s1 = cv2.invert(sigma_s1, cv2.DECOMP_SVD)[1]\n",
    "    sigma_s2, mu_s2 = cv2.calcCovarMatrix(sky[label.ravel() == 1],None,cv2.COVAR_NORMAL | cv2.COVAR_ROWS | cv2.COVAR_SCALE)\n",
    "    ic_s2 = cv2.invert(sigma_s2, cv2.DECOMP_SVD)[1]\n",
    "    sigma_g, mu_g = cv2.calcCovarMatrix(ground,None,cv2.COVAR_NORMAL | cv2.COVAR_ROWS | cv2.COVAR_SCALE)\n",
    "    icg = cv2.invert(sigma_g, cv2.DECOMP_SVD)[1]\n",
    "    if cv2.Mahalanobis(mu_s1, mu_g, ic_s1) > cv2.Mahalanobis(mu_s2, mu_g, ic_s2):\n",
    "        mu_s = mu_s1\n",
    "        sigma_s = sigma_s1\n",
    "        ics = ic_s1\n",
    "    else:\n",
    "        mu_s = mu_s2\n",
    "        sigma_s = sigma_s2\n",
    "        ics = ic_s2\n",
    "    for x in range(image.shape[1]):\n",
    "        cnt = np.sum(np.less(spatial.distance.cdist(image[0:bopt[x], x],mu_s,'mahalanobis',VI=ics),spatial.distance.cdist(image[0:bopt[x], x],mu_g,'mahalanobis',VI=icg)))\n",
    "        if cnt < (bopt[x] / 2):bopt[x] = 0\n",
    "    return bopt\n",
    "## https://github.com/cnelson/skydetector/blob/master/sky_detection.ipynb"
   ]
  },
  {
   "cell_type": "code",
   "execution_count": 11,
   "metadata": {},
   "outputs": [],
   "source": [
    "## https://github.com/cnelson/skydetector/blob/master/sky_detection.ipynb\n",
    "def detect_sky(image): ##function to detect the sky\n",
    "    bopt = calculate_border_optimal(image)\n",
    "    if no_sky_region(bopt, image.shape[0]/30, image.shape[0]/4, 5):\n",
    "        print(\"No sky detected\")\n",
    "        return\n",
    "    output=display_mask(bopt, image)\n",
    "    if partial_sky_region(bopt, image.shape[1]/3):\n",
    "        bnew = refine_sky(bopt, image)\n",
    "        output=display_mask(bnew, image)\n",
    "    return output\n",
    "## https://github.com/cnelson/skydetector/blob/master/sky_detection.ipynb"
   ]
  },
  {
   "cell_type": "markdown",
   "metadata": {},
   "source": [
    "Now we will be using a 3dLUT(3 dimensional look up table). this is used for turning the image pixels a little darker by increasing the range of the blue channel in the image which makes it look that the image has been taken at night.\n",
    "We are using Adobe's lookup table and this table has been taken from [2]. This lookup table has a dimension of 17x17x17 and has been named NightFromDay.CUBE"
   ]
  },
  {
   "cell_type": "code",
   "execution_count": 12,
   "metadata": {},
   "outputs": [],
   "source": [
    "def load_lut(path): ##this function reads the lut file and creates a 3d lut list\n",
    "    lut_dimensions=17 ##lut dimensison can be changed according to which lut we will be using\n",
    "    lut3d = np.zeros((lut_dimensions**3, 3))\n",
    "    with open(path, 'r') as file:\n",
    "        for line_number, line in enumerate(file.readlines()[-lut_dimensions**3:]):\n",
    "            line = np.array(line.strip().split(' ')).astype(np.float32)\n",
    "            lut3d[line_number] = line\n",
    "    return lut3d"
   ]
  },
  {
   "cell_type": "markdown",
   "metadata": {},
   "source": [
    "Out here we are reading the input image as a cv2 image as thats what the primary image type is in the sky detection algorithms and functions.\n",
    "We also reduce the the overall brightness of the image by setting the alpha -> 0.9 and beta -> -130 and adjust the image accordingly."
   ]
  },
  {
   "cell_type": "code",
   "execution_count": 16,
   "metadata": {},
   "outputs": [],
   "source": [
    "input_image = cv2.imread(file_path)\n",
    "##reduce the brightness to -50\n",
    "new_image = np.zeros(input_image.shape, input_image.dtype)\n",
    "alpha = 0.9 # Simple contrast control\n",
    "beta = -130    # Simple brightness control\n",
    "for i in range(input_image.shape[0]):\n",
    "    for j in range(input_image.shape[1]):\n",
    "        for k in range(input_image.shape[2]):\n",
    "            new_image[i,j,k] = np.clip(alpha*input_image[i,j,k] + beta, 0, 255)"
   ]
  },
  {
   "cell_type": "markdown",
   "metadata": {},
   "source": [
    "Applying the 3d lut to the image.\n",
    "So in case of a lookup table each pixel has a pre-defined designated pixel value [3]. and we just have to map the image pixels to the pixel values defined in the look up table.\n",
    "The final image that we get after applying the lookup-table on the image is:\n",
    "<img src=\"night_img.jpg\" />"
   ]
  },
  {
   "cell_type": "code",
   "execution_count": 17,
   "metadata": {},
   "outputs": [
    {
     "data": {
      "text/plain": [
       "True"
      ]
     },
     "execution_count": 17,
     "metadata": {},
     "output_type": "execute_result"
    }
   ],
   "source": [
    "lut = np.array(load_lut(\"test.cube\"))\n",
    "img = new_image\n",
    "pixels = np.array(img.reshape(-1, 3))\n",
    "l1, l2, l3, l1_, l2_, l3_ = [], [], [], [], [], []\n",
    "for row in range(lut.shape[0]):\n",
    "    l1.append(lut[row][0])\n",
    "    l2.append(lut[row][1])\n",
    "    l3.append(lut[row][2])\n",
    "for row in range(img.shape[0]):\n",
    "    l1_.append(img[row][0])\n",
    "    l2_.append(img[row][1])\n",
    "    l3_.append(img[row][2])\n",
    "l1,l1_ = np.array(l1),np.array(l1_) ## getting the red channel from the look-up table and the image respectively\n",
    "l2,l2_ = np.array(l2),np.array(l2_) ## getting the green channel from the look-up table and the image respectively\n",
    "l3,l3_ = np.array(l3),np.array(l3_) ## getting the blue channel from the look-up table and the image respectively\n",
    "t1,t2,t3 = l1[l1_],l2[l2_],l3[l3_] ##transforming the image channels to look-up table channels\n",
    "for row in range(img.shape[0]):\n",
    "    img[row][0] = t1[row]\n",
    "    img[row][1] = t2[row]\n",
    "    img[row][2] = t3[row]\n",
    "img = np.array(img.reshape(input_image.shape[0], input_image.shape[1], input_image.shape[2]))\n",
    "cv2.imwrite(\"night_img.jpg\", img)"
   ]
  },
  {
   "cell_type": "markdown",
   "metadata": {},
   "source": [
    "When we run the sky detection algorithm we get a output like this:\n",
    "<img src=\"sky.jpg\" />\n",
    "where the white region is the non sky and we store all the non white pixels in a list, so basically we have the entire sky region stored in a list in a pixel format now."
   ]
  },
  {
   "cell_type": "code",
   "execution_count": 18,
   "metadata": {},
   "outputs": [],
   "source": [
    "sky=detect_sky(input_image)\n",
    "cv2.imwrite(\"sky.jpg\",sky)\n",
    "list_solo=[]\n",
    "pil_img=Image.fromarray(np.array(sky))\n",
    "for x in range(np.array(pil_img).shape[1]):\n",
    "    for y in range(np.array(pil_img).shape[0]):\n",
    "        if(pil_img.getpixel((x,y))==(255,255,255)):pass\n",
    "        else:list_solo.append((x,y))"
   ]
  },
  {
   "cell_type": "markdown",
   "metadata": {},
   "source": [
    "Now we have to introduce a gaussian noise in our imaage (only the sky region) note that this gaussian noise is monochromatic and will only consist of black and white pixels which has been distributed normally over the region.\n",
    "This is how our gaussian noise over the sky region would look like:\n",
    "<img src=\"noise.jpg\"/>\n",
    "Now we can see that since the sky detection algorithm that we are using is good but not 100% accuracte there is a part in the image which is actually not the sky but gets the gaussian noise\n",
    "Note that we are randomly selecting half of the pixels in the sky region and then introducing the noise in it."
   ]
  },
  {
   "cell_type": "code",
   "execution_count": 19,
   "metadata": {},
   "outputs": [
    {
     "data": {
      "text/plain": [
       "True"
      ]
     },
     "execution_count": 19,
     "metadata": {},
     "output_type": "execute_result"
    }
   ],
   "source": [
    "def randomly_select_points(a): ##function to random;y select half the points in the sky region\n",
    "    return_list = set(random.sample(a, (len(a)-int(len(a)/1.5))))\n",
    "    return_list = [i for i in a if i in return_list]  \n",
    "    return return_list\n",
    "list_solo=randomly_select_points(list_solo)\n",
    "listt=[[255,255,255],[0,0,0]]\n",
    "for coord in list_solo:\n",
    "    randomize=random.sample(set([0,1]), 1)\n",
    "    img[coord[1],coord[0]]=listt[randomize[0]]\n",
    "cv2.imwrite(\"noise.jpg\",img)"
   ]
  },
  {
   "cell_type": "markdown",
   "metadata": {},
   "source": [
    "Now we use a neon filter to convolute the pixel values of the gaussian noise in order to give a sort of bright halo effect to the stars.<br/>\n",
    "The neon kernel has values has been taken from [4] and the convolution code has been adapted from lab1"
   ]
  },
  {
   "cell_type": "code",
   "execution_count": 20,
   "metadata": {},
   "outputs": [],
   "source": [
    "def convolution2(image,kernel_matrix,kernel_dimensions,neon_list):\n",
    "    image_padded=np.zeros((image.shape[0]+kernel_dimensions-1, image.shape[1]+kernel_dimensions-1, 3)) \n",
    "    image_padded[1:-(kernel_dimensions-2), 1:-(kernel_dimensions-2)]=image \n",
    "    for element in neon_list:\n",
    "        i=element[0]\n",
    "        j=element[1]\n",
    "        red=((kernel_matrix * image_padded[j:j+kernel_dimensions, i:i+kernel_dimensions, 0]).sum())\n",
    "        green=((kernel_matrix * image_padded[j:j+kernel_dimensions, i:i+kernel_dimensions, 1]).sum())\n",
    "        blue=((kernel_matrix * image_padded[j:j+kernel_dimensions, i:i+kernel_dimensions, 2]).sum())\n",
    "        image[j,i]=[red,green,blue]\n",
    "    return image"
   ]
  },
  {
   "cell_type": "markdown",
   "metadata": {},
   "source": [
    "Now we are doing is we are applying a gaussian blur kernel which has a radius of .25 pixels.<br/>\n",
    "Steps to do this is: calculate the sigma from the relation:<br/>\n",
    "<img src=\"7.png\"/>\n",
    "now when we get the sigma from the above equation we simply take the sigma value and plug it in [5] this will produce a 3x3 gaussian kernel matrix for us.<br/>\n",
    "The next thing that we are doing is that we are clipping the grayscale histogram of the image by putting the black stop to 175 and white stop to 255.This is done by converting the rgb values to grayscale values and then putting a if condition to restrict the pixels in the image.<br/>\n",
    "The code has been adopted from the convolution function implemented in lab1"
   ]
  },
  {
   "cell_type": "code",
   "execution_count": 21,
   "metadata": {},
   "outputs": [
    {
     "data": {
      "text/plain": [
       "True"
      ]
     },
     "execution_count": 21,
     "metadata": {},
     "output_type": "execute_result"
    },
    {
     "data": {
      "image/png": "[encoded data removed]",
      "text/plain": [
       "<Figure size 432x288 with 1 Axes>"
      ]
     },
     "metadata": {
      "needs_background": "light"
     },
     "output_type": "display_data"
    }
   ],
   "source": [
    "def convolution(original_image,image, kernel_matrix,kernel_matrix2, kernel_dimensions,kernel_dimensions2):\n",
    "    image_padded=np.zeros((image.shape[0]+kernel_dimensions-1, image.shape[1]+kernel_dimensions-1, 3)) ## I'm adding kernel dimension-1 padding of zeros to the image to handle border convolution ## this generalizes it as any kernel can be used then\n",
    "    image_padded[1:-(kernel_dimensions-2), 1:-(kernel_dimensions-2)]=image ##getting rest of the data from the image\n",
    "    hist=[]\n",
    "    neon_list=[]\n",
    "    for element in list_solo:\n",
    "        i=element[0]\n",
    "        j=element[1]\n",
    "        red=((kernel_matrix * image_padded[j:j+kernel_dimensions, i:i+kernel_dimensions, 0]).sum())\n",
    "        green=((kernel_matrix * image_padded[j:j+kernel_dimensions, i:i+kernel_dimensions, 1]).sum())\n",
    "        blue=((kernel_matrix * image_padded[j:j+kernel_dimensions, i:i+kernel_dimensions, 2]).sum())\n",
    "        grayscale=(red+green+blue)/3\n",
    "        hist.append(grayscale)\n",
    "        if(grayscale > 175 and grayscale <255): ## restring pixels values to 175-255 as stars cannnot be too dark.\n",
    "            image[j,i]=[red,green,blue]\n",
    "            neon_list.append((i,j))\n",
    "        else:\n",
    "            image[j,i]=original_image[j,i]\n",
    "    sb.distplot(hist)\n",
    "#     plt.show()\n",
    "    return convolution2(image,kernel_matrix2,kernel_dimensions2,neon_list)\n",
    "kernel_matrix1=np.array([[0.063459, 0.124993,   0.063459],\n",
    "                        [0.124993,  0.246193,   0.124993],\n",
    "                        [0.063459,  0.124993,   0.063459]]) ## gaussian blur matrix of radius .25 pixels[4]\n",
    "kernel_matrix_2 = np.array([[0, 1, 2, 1, 0], \n",
    "                   [1, 2, 4, 2, 1],\n",
    "                   [2, 4, 8, 4, 1],\n",
    "                   [1, 2, 4, 2, 1],\n",
    "                   [0, 1, 2, 1, 0]]) ### neon filter [5]\n",
    "cv2.imwrite('final_output.jpg',convolution(cv2.imread(\"night_img.jpg\"),img,kernel_matrix1,kernel_matrix_2,3,5))"
   ]
  },
  {
   "cell_type": "markdown",
   "metadata": {},
   "source": [
    "The fianl output image will look like:<br/>\n",
    "<img src=\"gaussian_blured.jpg\" />\n",
    "\n",
    "Note that as stated in the interim project report this idea is inspired by [6] and we are just trying to replicate the steps in [6]<br/>\n",
    "since in photoshop this is a lengthy process we are tying to automate is as much as we can, as this type of process is used more and more in creating magzines pictures purely based on imagination and no training data.<br/>\n",
    "For future scope one can try detecting street lights, windows, tail-lights and head lights of cars and try to light them up. This is a difficult task as there are thousand different types of light poles, cars, window shapes, window alignments etc. So that the range of images given as input to this project can be increased."
   ]
  },
  {
   "cell_type": "markdown",
   "metadata": {},
   "source": [
    "Limitations:<br/>\n",
    "-> this approach does not light up street lights, or windows so this approach does not work well on city images but works well on landscape images or monument images<br/>\n",
    "-> there is a possible loss of bright pixels in areas which are covered by shadows. So when we are trying to reduce the brightness of the image and then apply a 3dlut on it that area"
   ]
  },
  {
   "cell_type": "markdown",
   "metadata": {},
   "source": [
    "Some other outputs: <br/>\n",
    "<h2>Input Image:</h2>                                   \n",
    "<img src=\"input1.jpg\">\n",
    "<h2>Output Image:</h2>  \n",
    "<img src=\"output1.jpg\"><br/><br/>\n",
    "\n",
    "<h2>Input Image:</h2>                                   \n",
    "<img src=\"input2.jpg\">\n",
    "<h2>Output Image:</h2>  \n",
    "<img src=\"output2.jpg\"><br/><br/>\n",
    "\n",
    "<h2>Input Image:</h2>                                   \n",
    "<img src=\"input3.jpg\">\n",
    "<h2>Output Image:</h2>  \n",
    "<img src=\"output3.jpg\"><br/><br/>\n",
    "\n",
    "<h2>Input Image:</h2>                                   \n",
    "<img src=\"input4.jpg\">\n",
    "<h2>Output Image:</h2>  \n",
    "<img src=\"output4.jpg\"><br/><br/>\n",
    "\n",
    "<h2>Input Image:</h2>                                   \n",
    "<img src=\"input5.jpg\">\n",
    "<h2>Output Image:</h2>  \n",
    "<img src=\"output5.jpg\" ><br/><br/>\n",
    "\n",
    "<h2>Input Image:</h2>                                   \n",
    "<img src=\"input6.jpg\">\n",
    "<h2>Output Image:</h2>  \n",
    "<img src=\"output6.jpg\"><br/><br/>\n",
    "\n",
    "<h2>Input Image:</h2>                                   \n",
    "<img src=\"input7.jpg\">\n",
    "<h2>Output Image:</h2>  \n",
    "<img src=\"output7.jpg\"><br/><br/>"
   ]
  },
  {
   "cell_type": "markdown",
   "metadata": {},
   "source": [
    "Reference:\n",
    "[1] https://github.com/cnelson/skydetector/blob/master/sky_detection.ipynb <br/>\n",
    "[2] https://github.com/picwellwisher12pk/Presets/blob/master/3DLUTs/NightFromDay.CUBE   <br/>\n",
    "[3] https://en.wikipedia.org/wiki/3D_lookup_table<br/>\n",
    "[4] https://stackoverflow.com/questions/12008493/create-a-halo-around-text-in-python-using-pil  <br/> \n",
    "[5] http://dev.theomader.com/gaussian-kernel-calculator/   <br/>"
   ]
  }
 ],
 "metadata": {
  "kernelspec": {
   "display_name": "Python 3",
   "language": "python",
   "name": "python3"
  },
  "language_info": {
   "codemirror_mode": {
    "name": "ipython",
    "version": 3
   },
   "file_extension": ".py",
   "mimetype": "text/x-python",
   "name": "python",
   "nbconvert_exporter": "python",
   "pygments_lexer": "ipython3",
   "version": "3.6.7"
  }
 },
 "nbformat": 4,
 "nbformat_minor": 2
}
